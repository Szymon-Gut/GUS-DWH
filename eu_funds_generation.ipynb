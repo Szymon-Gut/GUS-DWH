{
 "cells": [
  {
   "cell_type": "code",
   "execution_count": 1,
   "metadata": {},
   "outputs": [],
   "source": [
    "import pandas as pd\n",
    "import numpy as np"
   ]
  },
  {
   "cell_type": "code",
   "execution_count": 2,
   "metadata": {},
   "outputs": [],
   "source": [
    "regions = pd.read_csv('economic_development.csv')[['Kod', 'Gmina', 'Powiat', 'Wojewodztwo']].drop_duplicates()"
   ]
  },
  {
   "cell_type": "code",
   "execution_count": 4,
   "metadata": {},
   "outputs": [],
   "source": [
    "eu_funds = pd.DataFrame(columns=['Kod', 'Gmina', 'Powiat', 'Wojewodztwo', 'Rok', 'Dotacja'])"
   ]
  },
  {
   "cell_type": "code",
   "execution_count": 5,
   "metadata": {},
   "outputs": [],
   "source": [
    "def random_dates(start, end, n=10):\n",
    "    start_u = start.value//10**9\n",
    "    end_u = end.value//10**9\n",
    "    seen_dates = []\n",
    "    for i in range(n):\n",
    "        date = pd.to_datetime(np.random.randint(start_u, end_u, n), unit='s')[0]\n",
    "        date_str = f\"{date.year}-{date.month:02d}-{date.day:02d}\"\n",
    "        while date_str in seen_dates:\n",
    "            date = pd.to_datetime(np.random.randint(start_u, end_u, n), unit='s')[0]\n",
    "            date_str = f\"{date.year}-{date.month:02d}-{date.day:02d}\"\n",
    "        seen_dates.append(date_str)\n",
    "    return seen_dates"
   ]
  },
  {
   "cell_type": "code",
   "execution_count": 25,
   "metadata": {},
   "outputs": [],
   "source": [
    "weights_v = {\n",
    "    'POMORSKIE': 47.5,\n",
    "    'ZACHODNIOPOMORSKIE': 37.7,\n",
    "    'LUBUSKIE': 21.2,\n",
    "    'WIELKOPOLSKIE': 52.9,\n",
    "    'KUJAWSKO-POMORSKIE': 36.8,\n",
    "    'MAZOWIECKIE': 106.3,\n",
    "    'WARMIŃSKO-MAZURSKIE': 40.5,\n",
    "    'PODLASKIE': 25,\n",
    "    'DOLNOŚLĄSKIE': 53.1,\n",
    "    'OPOLSKIE': 18,\n",
    "    'ŁÓDZKIE': 54.2,\n",
    "    'ŚLĄSKIE': 76.3,\n",
    "    'ŚWIĘTOKRZYSKIE': 25.5,\n",
    "    'MAŁOPOLSKIE': 61,\n",
    "    'PODKARPACKIE': 48,\n",
    "    'LUBELSKIE': 46.2,\n",
    "}\n",
    "weights_y = {\n",
    "    2004: 2,\n",
    "    2005: 4,\n",
    "    2006: 5,\n",
    "    2007: 7.5,\n",
    "    2008: 7.5,\n",
    "    2009: 9,\n",
    "    2010: 11.5,\n",
    "    2011: 14,\n",
    "    2012: 15.5,\n",
    "    2013: 15.5,\n",
    "    2014: 17,\n",
    "    2015: 13,\n",
    "    2016: 10,\n",
    "    2017: 11,\n",
    "    2018: 16,\n",
    "    2019: 16,\n",
    "    2020: 13,\n",
    "    2021: 13,\n",
    "    2022: 13,\n",
    "}\n",
    "sum_weights_v = sum(list(weights_v.values()))\n",
    "sum_weights_y = sum(list(weights_y.values()))\n",
    "m_count = regions.groupby(by='Wojewodztwo')['Gmina'].count()"
   ]
  },
  {
   "cell_type": "code",
   "execution_count": null,
   "metadata": {},
   "outputs": [],
   "source": [
    "eu_funds = pd.DataFrame(columns=['Kod', 'Gmina', 'Powiat', 'Wojewodztwo', 'Rok', 'Data', 'Dotacja'])\n",
    "for i, row in regions.iterrows():\n",
    "    if i % 10 == 0:\n",
    "        print(i/len(regions))\n",
    "    weight_v = weights_v[row['Wojewodztwo']] * 1e9 / m_count[row['Wojewodztwo']]\n",
    "    for year in range(2004, 2023):\n",
    "        weight_y = weights_y[year] / sum_weights_y\n",
    "        mean_for_year = weight_v * weight_y\n",
    "        n_dates = np.random.randint(1, 5)\n",
    "        mean_per_donation = mean_for_year / n_dates\n",
    "        donations = np.random.exponential(mean_per_donation - 1000, n_dates) + 1000 \n",
    "        dates = random_dates(pd.to_datetime(f'{year}-01-01'), pd.to_datetime(f'{year+1}-01-01'), 1)\n",
    "        for i, date in enumerate(dates):\n",
    "            eu_funds.loc[len(eu_funds)] = {\n",
    "                'Kod': row['Kod'],\n",
    "                'Gmina': row['Gmina'],\n",
    "                'Powiat': row['Powiat'],\n",
    "                'Wojewodztwo': row['Wojewodztwo'],\n",
    "                'Rok': year,\n",
    "                'Data': date,\n",
    "                'Dotacja': donations[i]\n",
    "            }\n"
   ]
  },
  {
   "cell_type": "code",
   "execution_count": 41,
   "metadata": {},
   "outputs": [],
   "source": [
    "eu_funds['Dotacja'] = eu_funds['Dotacja']*2"
   ]
  },
  {
   "cell_type": "code",
   "execution_count": 49,
   "metadata": {},
   "outputs": [],
   "source": [
    "eu_funds['Dotacja'] = eu_funds['Dotacja'].astype(np.int32)"
   ]
  },
  {
   "cell_type": "code",
   "execution_count": 46,
   "metadata": {},
   "outputs": [],
   "source": [
    "eu_funds.to_csv('eu_funds.csv', sep=',', index=False)"
   ]
  }
 ],
 "metadata": {
  "kernelspec": {
   "display_name": "Python 3",
   "language": "python",
   "name": "python3"
  },
  "language_info": {
   "codemirror_mode": {
    "name": "ipython",
    "version": 3
   },
   "file_extension": ".py",
   "mimetype": "text/x-python",
   "name": "python",
   "nbconvert_exporter": "python",
   "pygments_lexer": "ipython3",
   "version": "3.11.2"
  },
  "orig_nbformat": 4
 },
 "nbformat": 4,
 "nbformat_minor": 2
}
